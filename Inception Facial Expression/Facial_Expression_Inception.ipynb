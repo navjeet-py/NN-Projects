{
  "nbformat": 4,
  "nbformat_minor": 0,
  "metadata": {
    "colab": {
      "name": "Facial Expression Inception",
      "provenance": []
    },
    "kernelspec": {
      "name": "python3",
      "display_name": "Python 3"
    },
    "accelerator": "GPU"
  },
  "cells": [
    {
      "cell_type": "code",
      "metadata": {
        "id": "aRjgn3iuS_TV"
      },
      "source": [
        "! pip install -q kaggle"
      ],
      "execution_count": null,
      "outputs": []
    },
    {
      "cell_type": "code",
      "metadata": {
        "id": "46BNO6gmTAB1",
        "outputId": "bebeceb4-169e-4a43-b789-14cc6ffff005",
        "colab": {
          "resources": {
            "http://localhost:8080/nbextensions/google.colab/files.js": {
              "data": "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",
              "ok": true,
              "headers": [
                [
                  "content-type",
                  "application/javascript"
                ]
              ],
              "status": 200,
              "status_text": ""
            }
          },
          "base_uri": "https://localhost:8080/",
          "height": 90
        }
      },
      "source": [
        "from google.colab import files\n",
        "files.upload()"
      ],
      "execution_count": null,
      "outputs": [
        {
          "output_type": "display_data",
          "data": {
            "text/html": [
              "\n",
              "     <input type=\"file\" id=\"files-c2b898a9-e47b-4296-ace2-b4654aa0648d\" name=\"files[]\" multiple disabled\n",
              "        style=\"border:none\" />\n",
              "     <output id=\"result-c2b898a9-e47b-4296-ace2-b4654aa0648d\">\n",
              "      Upload widget is only available when the cell has been executed in the\n",
              "      current browser session. Please rerun this cell to enable.\n",
              "      </output>\n",
              "      <script src=\"/nbextensions/google.colab/files.js\"></script> "
            ],
            "text/plain": [
              "<IPython.core.display.HTML object>"
            ]
          },
          "metadata": {
            "tags": []
          }
        },
        {
          "output_type": "stream",
          "text": [
            "Saving kaggle.json to kaggle.json\n"
          ],
          "name": "stdout"
        },
        {
          "output_type": "execute_result",
          "data": {
            "text/plain": [
              "{'kaggle.json': b'{\"username\":\"navjeet69\",\"key\":\"491193145107e1fa28f250bf3940adbd\"}'}"
            ]
          },
          "metadata": {
            "tags": []
          },
          "execution_count": 2
        }
      ]
    },
    {
      "cell_type": "code",
      "metadata": {
        "id": "8yWFJkH4TBeB",
        "outputId": "9e54cf41-510d-4ecf-d954-70b737c92158",
        "colab": {
          "base_uri": "https://localhost:8080/",
          "height": 403
        }
      },
      "source": [
        "! mkdir ~/.kaggle\n",
        "! cp kaggle.json ~/.kaggle/\n",
        "! chmod 600 ~/.kaggle/kaggle.json\n",
        "! kaggle datasets list"
      ],
      "execution_count": null,
      "outputs": [
        {
          "output_type": "stream",
          "text": [
            "Warning: Looks like you're using an outdated API Version, please consider updating (server 1.5.6 / client 1.5.4)\n",
            "ref                                                               title                                                 size  lastUpdated          downloadCount  \n",
            "----------------------------------------------------------------  --------------------------------------------------  ------  -------------------  -------------  \n",
            "christianlillelund/donald-trumps-rallies                          Donald Trump's Rallies                               720KB  2020-09-26 10:25:08            447  \n",
            "heeraldedhia/groceries-dataset                                    Groceries dataset                                    257KB  2020-09-17 04:36:08           2512  \n",
            "andrewmvd/trip-advisor-hotel-reviews                              Trip Advisor Hotel Reviews                             5MB  2020-09-30 08:31:20           1479  \n",
            "balraj98/stanford-background-dataset                              Stanford Background Dataset                           17MB  2020-09-26 12:57:59            157  \n",
            "nehaprabhavalkar/indian-food-101                                  Indian Food 101                                        7KB  2020-09-30 06:23:43           2067  \n",
            "jilkothari/finance-accounting-courses-udemy-13k-course            Finance & Accounting Courses - Udemy (13K+ course)  1000KB  2020-09-17 12:46:12            699  \n",
            "balraj98/massachusetts-roads-dataset                              Massachusetts Roads Dataset                            6GB  2020-09-26 03:57:49            131  \n",
            "arslanali4343/top-personality-dataset                             Top Personality Dataset                                9MB  2020-09-27 21:25:45            729  \n",
            "oldaandozerskaya/fiction-corpus-for-agebased-text-classification  RusAge: Corpus for Age-Based Text Classification     509MB  2020-09-28 09:30:12             39  \n",
            "gpreda/chinese-mnist                                              Chinese MNIST                                         10MB  2020-08-05 12:36:00            264  \n",
            "gpreda/local-elections-romania-2020                               Local Elections Romania 2020                          28MB  2020-09-27 20:46:11            143  \n",
            "anth7310/mental-health-in-the-tech-industry                       Mental Health in the Tech Industry                     2MB  2020-09-27 11:17:23           1111  \n",
            "roshansharma/sanfranciso-crime-dataset                            Sanfranciso Crime Dataset                              6MB  2019-05-29 12:45:44           3823  \n",
            "bppuneethpai/tldr-summary-for-man-pages                           TLDR summary for man pages                             8MB  2020-09-25 09:50:10             24  \n",
            "sterby/german-recipes-dataset                                     German Recipes Dataset                                 5MB  2019-03-06 16:25:22            841  \n",
            "arslanali4343/real-estate-dataset                                 Real Estate DataSet                                   12KB  2020-09-28 21:25:33            901  \n",
            "leangab/poe-short-stories-corpuscsv                               E.A. Poe's corpus of short stories                   725KB  2020-09-28 11:43:08            101  \n",
            "thomaskonstantin/top-270-rated-computer-science-programing-books  Top 270 Computer Science / Programing Books           45KB  2020-09-28 16:47:12            413  \n",
            "anmolkumar/health-insurance-cross-sell-prediction                 Health Insurance Cross Sell Prediction 🏠 🏥             6MB  2020-09-11 18:39:31           4183  \n",
            "ramjidoolla/ipl-data-set                                          IPL _Data_Set                                          1MB  2020-09-14 10:57:42           3938  \n"
          ],
          "name": "stdout"
        }
      ]
    },
    {
      "cell_type": "code",
      "metadata": {
        "id": "fBn5-bpNTJxS",
        "outputId": "5e50fbd1-eb42-4432-9a8e-862808c2e3d0",
        "colab": {
          "base_uri": "https://localhost:8080/",
          "height": 67
        }
      },
      "source": [
        "!kaggle datasets download -d ahmedmoorsy/facial-expression"
      ],
      "execution_count": null,
      "outputs": [
        {
          "output_type": "stream",
          "text": [
            "Downloading facial-expression.zip to /content\n",
            " 96% 185M/193M [00:01<00:00, 97.0MB/s]\n",
            "100% 193M/193M [00:01<00:00, 114MB/s] \n"
          ],
          "name": "stdout"
        }
      ]
    },
    {
      "cell_type": "code",
      "metadata": {
        "id": "86zTafA-TQJM"
      },
      "source": [
        "! mkdir data"
      ],
      "execution_count": null,
      "outputs": []
    },
    {
      "cell_type": "code",
      "metadata": {
        "id": "BEhQMGQrTThz",
        "outputId": "2c4a085b-8295-4c9a-f154-6f57bc247314",
        "colab": {
          "base_uri": "https://localhost:8080/",
          "height": 67
        }
      },
      "source": [
        "!unzip facial-expression.zip -d data"
      ],
      "execution_count": null,
      "outputs": [
        {
          "output_type": "stream",
          "text": [
            "Archive:  facial-expression.zip\n",
            "  inflating: data/fer2013.csv        \n",
            "  inflating: data/fer2013/fer2013.csv  \n"
          ],
          "name": "stdout"
        }
      ]
    },
    {
      "cell_type": "code",
      "metadata": {
        "id": "gCbKnkHqTWq4"
      },
      "source": [
        "import pandas as pd\n",
        "import numpy as np\n",
        "import matplotlib.pyplot as plt"
      ],
      "execution_count": null,
      "outputs": []
    },
    {
      "cell_type": "code",
      "metadata": {
        "id": "36ja3OWrTpn2"
      },
      "source": [
        "file = open('data/fer2013.csv', 'r')\n",
        "cnt = 0\n",
        "final = []\n",
        "for line in file:\n",
        "    cnt += 1\n",
        "    if cnt > 1:\n",
        "        p = list(line.split(','))\n",
        "        k = list(map(int, p[1].split()))\n",
        "        final.append([int(p[0])])\n",
        "        final[-1].append(k)"
      ],
      "execution_count": null,
      "outputs": []
    },
    {
      "cell_type": "code",
      "metadata": {
        "id": "ZMi7q4nKUj-E",
        "outputId": "a3679cba-4b44-4014-c3d6-39c0aa3aa7ec",
        "colab": {
          "base_uri": "https://localhost:8080/",
          "height": 34
        }
      },
      "source": [
        "len(final)"
      ],
      "execution_count": null,
      "outputs": [
        {
          "output_type": "execute_result",
          "data": {
            "text/plain": [
              "35887"
            ]
          },
          "metadata": {
            "tags": []
          },
          "execution_count": 10
        }
      ]
    },
    {
      "cell_type": "code",
      "metadata": {
        "id": "syYcvZD0Ump8"
      },
      "source": [
        "images = []\n",
        "labels = []\n",
        "for i in final:\n",
        "    labels.append(i[0])\n",
        "    p = np.array(i[1])\n",
        "    p = p.reshape((48,48))\n",
        "    p = list(p)\n",
        "    images.append(p)"
      ],
      "execution_count": null,
      "outputs": []
    },
    {
      "cell_type": "code",
      "metadata": {
        "id": "aN1S4IlTVWpx"
      },
      "source": [
        "images = np.array(images)"
      ],
      "execution_count": null,
      "outputs": []
    },
    {
      "cell_type": "code",
      "metadata": {
        "id": "cmd5jdKQVku6",
        "outputId": "94d8d80d-83e1-47b1-e153-4790f19f2656",
        "colab": {
          "base_uri": "https://localhost:8080/",
          "height": 34
        }
      },
      "source": [
        "images.shape"
      ],
      "execution_count": null,
      "outputs": [
        {
          "output_type": "execute_result",
          "data": {
            "text/plain": [
              "(35887, 48, 48)"
            ]
          },
          "metadata": {
            "tags": []
          },
          "execution_count": 14
        }
      ]
    },
    {
      "cell_type": "code",
      "metadata": {
        "id": "VKQ-gooZVmkN",
        "outputId": "fbed4fad-42b9-4597-93ae-01ea6e1240d8",
        "colab": {
          "base_uri": "https://localhost:8080/",
          "height": 284
        }
      },
      "source": [
        "i = 20\n",
        "plt.imshow(images[i], cmap='gray')\n",
        "labels[i]"
      ],
      "execution_count": null,
      "outputs": [
        {
          "output_type": "execute_result",
          "data": {
            "text/plain": [
              "4"
            ]
          },
          "metadata": {
            "tags": []
          },
          "execution_count": 15
        },
        {
          "output_type": "display_data",
          "data": {
            "image/png": "[encoded data removed]",
            "text/plain": [
              "<Figure size 432x288 with 1 Axes>"
            ]
          },
          "metadata": {
            "tags": [],
            "needs_background": "light"
          }
        }
      ]
    },
    {
      "cell_type": "code",
      "metadata": {
        "id": "YGgxMyWsVqMY"
      },
      "source": [
        "labels = np.array(labels)"
      ],
      "execution_count": null,
      "outputs": []
    },
    {
      "cell_type": "code",
      "metadata": {
        "id": "ncAnhTYqV_n2"
      },
      "source": [
        "labels = labels.reshape(35887, 1)\n",
        "images = images.reshape(35887, 48, 48, 1)"
      ],
      "execution_count": null,
      "outputs": []
    },
    {
      "cell_type": "code",
      "metadata": {
        "id": "zFuMLT-aVs5V"
      },
      "source": [
        "from sklearn.model_selection import train_test_split"
      ],
      "execution_count": null,
      "outputs": []
    },
    {
      "cell_type": "code",
      "metadata": {
        "id": "2Wf4taAWV4cU"
      },
      "source": [
        "X_train, X_test, y_train, y_test = train_test_split(images, labels, test_size=0.2, random_state=42)"
      ],
      "execution_count": null,
      "outputs": []
    },
    {
      "cell_type": "code",
      "metadata": {
        "id": "LDbgXEnAWUkg",
        "outputId": "0453dae4-2888-439c-e499-f60cd0b6751b",
        "colab": {
          "base_uri": "https://localhost:8080/",
          "height": 284
        }
      },
      "source": [
        "i = 69\n",
        "plt.imshow(X_train[i].reshape(48, 48), cmap='gray')\n",
        "labels[i]"
      ],
      "execution_count": null,
      "outputs": [
        {
          "output_type": "execute_result",
          "data": {
            "text/plain": [
              "array([5])"
            ]
          },
          "metadata": {
            "tags": []
          },
          "execution_count": 36
        },
        {
          "output_type": "display_data",
          "data": {
            "image/png": "[encoded data removed]",
            "text/plain": [
              "<Figure size 432x288 with 1 Axes>"
            ]
          },
          "metadata": {
            "tags": [],
            "needs_background": "light"
          }
        }
      ]
    },
    {
      "cell_type": "code",
      "metadata": {
        "id": "2tEc8_7kYR81"
      },
      "source": [
        "X_train, X_test = X_train / 255.0, X_test / 255.0"
      ],
      "execution_count": null,
      "outputs": []
    },
    {
      "cell_type": "code",
      "metadata": {
        "id": "rXKgPVIWaIc4"
      },
      "source": [
        "X_train_rgb = np.ndarray(shape=(X_train.shape[0], X_train.shape[1], X_train.shape[2], 3)) \n",
        "X_train_rgb[:, :, :, 0] = X_train[:, :, :, 0]\n",
        "X_train_rgb[:, :, :, 1] = X_train[:, :, :, 0]\n",
        "X_train_rgb[:, :, :, 2] = X_train[:, :, :, 0]\n",
        "X_test_rgb = np.ndarray(shape=(X_test.shape[0], X_test.shape[1], X_test.shape[2], 3)) \n",
        "X_test_rgb[:, :, :, 0] = X_test[:, :, :, 0]\n",
        "X_test_rgb[:, :, :, 1] = X_test[:, :, :, 0]\n",
        "X_test_rgb[:, :, :, 2] = X_test[:, :, :, 0]"
      ],
      "execution_count": null,
      "outputs": []
    },
    {
      "cell_type": "code",
      "metadata": {
        "id": "_dd1rajCWZUZ"
      },
      "source": [
        "import tensorflow as tf\n",
        "from tensorflow import keras\n",
        "from keras.applications.vgg16 import VGG16\n",
        "from keras.layers import Input, Lambda, Dense, Flatten"
      ],
      "execution_count": null,
      "outputs": []
    },
    {
      "cell_type": "code",
      "metadata": {
        "id": "iWu_RNnUWznq"
      },
      "source": [
        "vgg = VGG16(include_top=False, weights='imagenet', input_shape=[48, 48, 3])"
      ],
      "execution_count": null,
      "outputs": []
    },
    {
      "cell_type": "code",
      "metadata": {
        "id": "cCZbaqZsXB_K"
      },
      "source": [
        "for layer in vgg.layers:\n",
        "  layer.trainable = False"
      ],
      "execution_count": null,
      "outputs": []
    },
    {
      "cell_type": "code",
      "metadata": {
        "id": "SAwslJI6aci7"
      },
      "source": [
        "x = Flatten() (vgg.output)\n",
        "prediction = Dense(7, activation='softmax') (x)"
      ],
      "execution_count": null,
      "outputs": []
    },
    {
      "cell_type": "code",
      "metadata": {
        "id": "9TlaERJlbLT6"
      },
      "source": [
        "model = keras.models.Model(inputs=vgg.input, outputs=prediction)"
      ],
      "execution_count": null,
      "outputs": []
    },
    {
      "cell_type": "code",
      "metadata": {
        "id": "a-7COP8Xbbt1"
      },
      "source": [
        "model.compile(\n",
        "    loss='categorical_crossentropy',\n",
        "    optimizer='rmsprop',\n",
        "    metrics=['accuracy']\n",
        ")"
      ],
      "execution_count": null,
      "outputs": []
    },
    {
      "cell_type": "code",
      "metadata": {
        "id": "VIB70eM_boJc",
        "outputId": "aea59f48-60a1-4ccc-f81f-189b1be98195",
        "colab": {
          "base_uri": "https://localhost:8080/",
          "height": 1000
        }
      },
      "source": [
        "history = model.fit(X_train_rgb, y_train_final, epochs=50, validation_data=(X_test_rgb, y_test_final) )"
      ],
      "execution_count": null,
      "outputs": [
        {
          "output_type": "stream",
          "text": [
            "Epoch 1/50\n",
            "898/898 [==============================] - 29s 32ms/step - loss: 1.5051 - accuracy: 0.4279 - val_loss: 1.5593 - val_accuracy: 0.3975\n",
            "Epoch 2/50\n",
            "898/898 [==============================] - 29s 32ms/step - loss: 1.5048 - accuracy: 0.4272 - val_loss: 1.5512 - val_accuracy: 0.4040\n",
            "Epoch 3/50\n",
            "898/898 [==============================] - 28s 32ms/step - loss: 1.5034 - accuracy: 0.4299 - val_loss: 1.5550 - val_accuracy: 0.4037\n",
            "Epoch 4/50\n",
            "898/898 [==============================] - 28s 31ms/step - loss: 1.5016 - accuracy: 0.4309 - val_loss: 1.5589 - val_accuracy: 0.3961\n",
            "Epoch 5/50\n",
            "898/898 [==============================] - 28s 31ms/step - loss: 1.5010 - accuracy: 0.4304 - val_loss: 1.5760 - val_accuracy: 0.3908\n",
            "Epoch 6/50\n",
            "898/898 [==============================] - 28s 31ms/step - loss: 1.5007 - accuracy: 0.4324 - val_loss: 1.5831 - val_accuracy: 0.3887\n",
            "Epoch 7/50\n",
            "898/898 [==============================] - 28s 31ms/step - loss: 1.4999 - accuracy: 0.4320 - val_loss: 1.5621 - val_accuracy: 0.3975\n",
            "Epoch 8/50\n",
            "898/898 [==============================] - 28s 31ms/step - loss: 1.4985 - accuracy: 0.4318 - val_loss: 1.5561 - val_accuracy: 0.4055\n",
            "Epoch 9/50\n",
            "898/898 [==============================] - 28s 31ms/step - loss: 1.4991 - accuracy: 0.4332 - val_loss: 1.5537 - val_accuracy: 0.4089\n",
            "Epoch 10/50\n",
            "898/898 [==============================] - 28s 31ms/step - loss: 1.4983 - accuracy: 0.4324 - val_loss: 1.5554 - val_accuracy: 0.4048\n",
            "Epoch 11/50\n",
            "898/898 [==============================] - 28s 31ms/step - loss: 1.4981 - accuracy: 0.4317 - val_loss: 1.5757 - val_accuracy: 0.3957\n",
            "Epoch 12/50\n",
            "898/898 [==============================] - 28s 31ms/step - loss: 1.4989 - accuracy: 0.4334 - val_loss: 1.5753 - val_accuracy: 0.3977\n",
            "Epoch 13/50\n",
            "898/898 [==============================] - 28s 32ms/step - loss: 1.4981 - accuracy: 0.4335 - val_loss: 1.5616 - val_accuracy: 0.4037\n",
            "Epoch 14/50\n",
            "898/898 [==============================] - 28s 31ms/step - loss: 1.4972 - accuracy: 0.4338 - val_loss: 1.5709 - val_accuracy: 0.3954\n",
            "Epoch 15/50\n",
            "898/898 [==============================] - 28s 31ms/step - loss: 1.4981 - accuracy: 0.4346 - val_loss: 1.5777 - val_accuracy: 0.3938\n",
            "Epoch 16/50\n",
            "898/898 [==============================] - 28s 31ms/step - loss: 1.4979 - accuracy: 0.4320 - val_loss: 1.5667 - val_accuracy: 0.4083\n",
            "Epoch 17/50\n",
            "898/898 [==============================] - 28s 31ms/step - loss: 1.4970 - accuracy: 0.4334 - val_loss: 1.5615 - val_accuracy: 0.4065\n",
            "Epoch 18/50\n",
            "898/898 [==============================] - 28s 31ms/step - loss: 1.4982 - accuracy: 0.4321 - val_loss: 1.5721 - val_accuracy: 0.4033\n",
            "Epoch 19/50\n",
            "898/898 [==============================] - 28s 31ms/step - loss: 1.4976 - accuracy: 0.4350 - val_loss: 1.5732 - val_accuracy: 0.3990\n",
            "Epoch 20/50\n",
            "898/898 [==============================] - 28s 31ms/step - loss: 1.4975 - accuracy: 0.4326 - val_loss: 1.5738 - val_accuracy: 0.3982\n",
            "Epoch 21/50\n",
            "898/898 [==============================] - 28s 31ms/step - loss: 1.4978 - accuracy: 0.4344 - val_loss: 1.5662 - val_accuracy: 0.4050\n",
            "Epoch 22/50\n",
            "898/898 [==============================] - 28s 31ms/step - loss: 1.4976 - accuracy: 0.4357 - val_loss: 1.5683 - val_accuracy: 0.4026\n",
            "Epoch 23/50\n",
            "898/898 [==============================] - 28s 31ms/step - loss: 1.4976 - accuracy: 0.4327 - val_loss: 1.5765 - val_accuracy: 0.4032\n",
            "Epoch 24/50\n",
            "898/898 [==============================] - 28s 31ms/step - loss: 1.4983 - accuracy: 0.4341 - val_loss: 1.5725 - val_accuracy: 0.3979\n",
            "Epoch 25/50\n",
            "898/898 [==============================] - 28s 32ms/step - loss: 1.4980 - accuracy: 0.4353 - val_loss: 1.5763 - val_accuracy: 0.4009\n",
            "Epoch 26/50\n",
            "898/898 [==============================] - 28s 31ms/step - loss: 1.4981 - accuracy: 0.4355 - val_loss: 1.5765 - val_accuracy: 0.4062\n",
            "Epoch 27/50\n",
            "898/898 [==============================] - 28s 31ms/step - loss: 1.4986 - accuracy: 0.4340 - val_loss: 1.5785 - val_accuracy: 0.4029\n",
            "Epoch 28/50\n",
            "898/898 [==============================] - 28s 31ms/step - loss: 1.4978 - accuracy: 0.4349 - val_loss: 1.5755 - val_accuracy: 0.4072\n",
            "Epoch 29/50\n",
            "898/898 [==============================] - 28s 31ms/step - loss: 1.4987 - accuracy: 0.4362 - val_loss: 1.5955 - val_accuracy: 0.3892\n",
            "Epoch 30/50\n",
            "898/898 [==============================] - 28s 31ms/step - loss: 1.4976 - accuracy: 0.4349 - val_loss: 1.5920 - val_accuracy: 0.3950\n",
            "Epoch 31/50\n",
            "898/898 [==============================] - 28s 31ms/step - loss: 1.4988 - accuracy: 0.4344 - val_loss: 1.5823 - val_accuracy: 0.3969\n",
            "Epoch 32/50\n",
            "898/898 [==============================] - 28s 31ms/step - loss: 1.4991 - accuracy: 0.4345 - val_loss: 1.5881 - val_accuracy: 0.3984\n",
            "Epoch 33/50\n",
            "898/898 [==============================] - 28s 31ms/step - loss: 1.4988 - accuracy: 0.4361 - val_loss: 1.5804 - val_accuracy: 0.3990\n",
            "Epoch 34/50\n",
            "898/898 [==============================] - 28s 31ms/step - loss: 1.4995 - accuracy: 0.4374 - val_loss: 1.5836 - val_accuracy: 0.3961\n",
            "Epoch 35/50\n",
            "898/898 [==============================] - 28s 31ms/step - loss: 1.4989 - accuracy: 0.4357 - val_loss: 1.5812 - val_accuracy: 0.3957\n",
            "Epoch 36/50\n",
            "898/898 [==============================] - 28s 31ms/step - loss: 1.4997 - accuracy: 0.4378 - val_loss: 1.5871 - val_accuracy: 0.3952\n",
            "Epoch 37/50\n",
            "898/898 [==============================] - 28s 31ms/step - loss: 1.5000 - accuracy: 0.4370 - val_loss: 1.5929 - val_accuracy: 0.3976\n",
            "Epoch 38/50\n",
            "898/898 [==============================] - 28s 31ms/step - loss: 1.5006 - accuracy: 0.4362 - val_loss: 1.5817 - val_accuracy: 0.4101\n",
            "Epoch 39/50\n",
            "898/898 [==============================] - 28s 31ms/step - loss: 1.5003 - accuracy: 0.4360 - val_loss: 1.5867 - val_accuracy: 0.3990\n",
            "Epoch 40/50\n",
            "898/898 [==============================] - 28s 31ms/step - loss: 1.4998 - accuracy: 0.4364 - val_loss: 1.5810 - val_accuracy: 0.4028\n",
            "Epoch 41/50\n",
            "898/898 [==============================] - 28s 31ms/step - loss: 1.5006 - accuracy: 0.4369 - val_loss: 1.5826 - val_accuracy: 0.4055\n",
            "Epoch 42/50\n",
            "898/898 [==============================] - 28s 31ms/step - loss: 1.5008 - accuracy: 0.4343 - val_loss: 1.5869 - val_accuracy: 0.4051\n",
            "Epoch 43/50\n",
            "898/898 [==============================] - 28s 31ms/step - loss: 1.5005 - accuracy: 0.4351 - val_loss: 1.5983 - val_accuracy: 0.3931\n",
            "Epoch 44/50\n",
            "898/898 [==============================] - 28s 31ms/step - loss: 1.5011 - accuracy: 0.4367 - val_loss: 1.5882 - val_accuracy: 0.3970\n",
            "Epoch 45/50\n",
            "898/898 [==============================] - 28s 31ms/step - loss: 1.5015 - accuracy: 0.4377 - val_loss: 1.5929 - val_accuracy: 0.3968\n",
            "Epoch 46/50\n",
            "898/898 [==============================] - 28s 31ms/step - loss: 1.5017 - accuracy: 0.4360 - val_loss: 1.5950 - val_accuracy: 0.4015\n",
            "Epoch 47/50\n",
            "898/898 [==============================] - 28s 31ms/step - loss: 1.5019 - accuracy: 0.4368 - val_loss: 1.5875 - val_accuracy: 0.4039\n",
            "Epoch 48/50\n",
            "898/898 [==============================] - 28s 31ms/step - loss: 1.5011 - accuracy: 0.4364 - val_loss: 1.5940 - val_accuracy: 0.3990\n",
            "Epoch 49/50\n",
            "355/898 [==========>...................] - ETA: 13s - loss: 1.4929 - accuracy: 0.4377"
          ],
          "name": "stdout"
        }
      ]
    },
    {
      "cell_type": "code",
      "metadata": {
        "id": "jsZdGKjSaqnl",
        "outputId": "666ed520-b835-44e4-d1fd-02155aff9aee",
        "colab": {
          "base_uri": "https://localhost:8080/",
          "height": 34
        }
      },
      "source": [
        "y_train.shape"
      ],
      "execution_count": null,
      "outputs": [
        {
          "output_type": "execute_result",
          "data": {
            "text/plain": [
              "(28709, 1)"
            ]
          },
          "metadata": {
            "tags": []
          },
          "execution_count": 92
        }
      ]
    },
    {
      "cell_type": "code",
      "metadata": {
        "id": "legEbiyoas6x"
      },
      "source": [
        "y_train = y_train.reshape(28709,)"
      ],
      "execution_count": null,
      "outputs": []
    },
    {
      "cell_type": "code",
      "metadata": {
        "id": "1P4sIdbga4JL",
        "outputId": "19e20f94-373f-4414-f288-24c2b7108abb",
        "colab": {
          "base_uri": "https://localhost:8080/",
          "height": 34
        }
      },
      "source": [
        "X_train_rgb.shape"
      ],
      "execution_count": null,
      "outputs": [
        {
          "output_type": "execute_result",
          "data": {
            "text/plain": [
              "(28709, 48, 48, 3)"
            ]
          },
          "metadata": {
            "tags": []
          },
          "execution_count": 71
        }
      ]
    },
    {
      "cell_type": "code",
      "metadata": {
        "id": "PtnJQgRzdYNs",
        "outputId": "7afde060-3ca7-44e8-a417-285d6f83e1ff",
        "colab": {
          "base_uri": "https://localhost:8080/",
          "height": 34
        }
      },
      "source": [
        "y_train"
      ],
      "execution_count": null,
      "outputs": [
        {
          "output_type": "execute_result",
          "data": {
            "text/plain": [
              "array([4, 6, 3, ..., 4, 0, 4])"
            ]
          },
          "metadata": {
            "tags": []
          },
          "execution_count": 82
        }
      ]
    },
    {
      "cell_type": "code",
      "metadata": {
        "id": "nGjXThuyedPf"
      },
      "source": [
        "y_train = list(y_train)"
      ],
      "execution_count": null,
      "outputs": []
    },
    {
      "cell_type": "code",
      "metadata": {
        "id": "nRNTpZZqfOSI"
      },
      "source": [
        "y_train_final = [[0, 0, 0, 0, 0, 0, 0] for i in range(28709)]\n",
        "for i in range(28709):\n",
        "  y_train_final[i][y_train[i]] = 1"
      ],
      "execution_count": null,
      "outputs": []
    },
    {
      "cell_type": "code",
      "metadata": {
        "id": "ok5kgxs9fdGT"
      },
      "source": [
        "y_train_final = np.array(y_train_final)"
      ],
      "execution_count": null,
      "outputs": []
    },
    {
      "cell_type": "code",
      "metadata": {
        "id": "Mnu0MsoCfg_E",
        "outputId": "0c3bfbeb-8317-48b3-e0bb-6fc102aac32b",
        "colab": {
          "base_uri": "https://localhost:8080/",
          "height": 34
        }
      },
      "source": [
        "y_train_final.shape"
      ],
      "execution_count": null,
      "outputs": [
        {
          "output_type": "execute_result",
          "data": {
            "text/plain": [
              "(28709, 7)"
            ]
          },
          "metadata": {
            "tags": []
          },
          "execution_count": 101
        }
      ]
    },
    {
      "cell_type": "code",
      "metadata": {
        "id": "VaNyrQpgfiqD",
        "outputId": "ed7a85d9-61be-4d5c-edca-9e3a1d6fbac9",
        "colab": {
          "base_uri": "https://localhost:8080/",
          "height": 34
        }
      },
      "source": [
        "y_train_final[0]"
      ],
      "execution_count": null,
      "outputs": [
        {
          "output_type": "execute_result",
          "data": {
            "text/plain": [
              "array([0, 0, 0, 0, 1, 0, 0])"
            ]
          },
          "metadata": {
            "tags": []
          },
          "execution_count": 103
        }
      ]
    },
    {
      "cell_type": "code",
      "metadata": {
        "id": "EvMdgfRQf-gP",
        "outputId": "c457c6be-b5f2-4926-a9d5-f86a8f5edf4d",
        "colab": {
          "base_uri": "https://localhost:8080/",
          "height": 34
        }
      },
      "source": [
        "X_train_rgb[0].shape"
      ],
      "execution_count": null,
      "outputs": [
        {
          "output_type": "execute_result",
          "data": {
            "text/plain": [
              "(48, 48, 3)"
            ]
          },
          "metadata": {
            "tags": []
          },
          "execution_count": 105
        }
      ]
    },
    {
      "cell_type": "code",
      "metadata": {
        "id": "tJ8N8hmDgCYb"
      },
      "source": [
        "y_test = list(y_test)\n",
        "y_test_final = [[0, 0, 0, 0, 0, 0, 0] for i in range(7178)]\n",
        "for i in range(7178):\n",
        "  y_test_final[i][y_test[i]] = 1\n",
        "y_test_final = np.array(y_test_final)"
      ],
      "execution_count": null,
      "outputs": []
    },
    {
      "cell_type": "code",
      "metadata": {
        "id": "I57Vk3d0jEE6"
      },
      "source": [
        "y_test = np.array(y_test)\n",
        "y_test = y_test.reshape(7178, )\n",
        "y_test = list(y_test)"
      ],
      "execution_count": null,
      "outputs": []
    },
    {
      "cell_type": "code",
      "metadata": {
        "id": "g6EpC52SjeJM",
        "outputId": "584832ca-fcaa-4882-a26f-4abd96c58f66",
        "colab": {
          "base_uri": "https://localhost:8080/",
          "height": 34
        }
      },
      "source": [
        "y_test_final.shape"
      ],
      "execution_count": null,
      "outputs": [
        {
          "output_type": "execute_result",
          "data": {
            "text/plain": [
              "(7178, 7)"
            ]
          },
          "metadata": {
            "tags": []
          },
          "execution_count": 125
        }
      ]
    },
    {
      "cell_type": "code",
      "metadata": {
        "id": "AvM4Ojzpjp0k"
      },
      "source": [
        ""
      ],
      "execution_count": null,
      "outputs": []
    }
  ]
}